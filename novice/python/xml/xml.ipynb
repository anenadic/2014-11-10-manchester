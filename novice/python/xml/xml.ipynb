{
 "metadata": {
  "name": ""
 },
 "nbformat": 3,
 "nbformat_minor": 0,
 "worksheets": [
  {
   "cells": [
    {
     "cell_type": "markdown",
     "metadata": {},
     "source": [
      "##Working with XML files in Python\n",
      "Based on original materials by Greg Wilson and Andrew Walker\n",
      "\n",
      "Introduction\n",
      "------------\n",
      "\n",
      "XML is becoming the standard way to store everything from web pages to astronomical data. There is a bewildering variety of tools for dealing with it. In this tutorial we will look at how to process and modify XML. We will cover the basics but if you are interested here is some recommended reading:\n",
      "\n",
      "-   [Castro 2002](bib.html#bib:castro-html) if all you care about\n",
      "        is HTML\n",
      "-   [Castro 2000](bib.html#bib:castro-xml) if you want to know\n",
      "        more about XML\n",
      "-   [Harold 2004](bib.html#bib:harold-effective-xml) if you want\n",
      "        to become an expert\n",
      "\n",
      "A bit of history (to help you understand the context).In 1969-1986 Standard Generalized Markup Language (SGML) emerged. It was developed by Charles Goldfarb and others at IBM. It was a way of adding information to medical and legal documents so that computers could process them. It had a very complex specification (over 500 pages). In 1989: Tim Berners-Lee creates HyperText Markup Language (HTML) for the World Wide Web. It was much (much) simpler than SGML. Anyone could write it, so everyone did.\n",
      "\n",
      "The problem was HTML had a small, fixed set of tags. Everyone wanted to add new ones. So the solution was to create a standard way to define a set of tags, and the relationships between them. The first version of [XML] was standardized in 1998. It is a set of rules for defining markup languages, much more complex than HTML, but still simpler than SGMLNew version of HTML called XHTML was also defined, it was like HTML, but obeys all XML rules. There still is a lot of non-XML compliant HTML out there.\n",
      "\n",
      "Formatting Rules\n",
      "-------------------\n",
      "\n",
      "A basic XML [document] contains [elements] and    [text]. Full spec allows for external entity references, processing instructions, and other fun.\n",
      "\n",
      "Elements are shown using [tags]({{page.root}}/book/glossary.html#tag-xml):  \n",
      "    -   Must be enclosed in angle brackets `<>`  \n",
      "\n",
      " \n",
      "\n",
      "####Document Structure\n",
      "-   Elements must be properly nested\n",
      "    -   If Y starts inside X, Y must end before X ends\n",
      "    -   So `<X>...<Y>...</Y></X>` is legal...\n",
      "    -   ...but `<X>...<Y>...</X></Y>` is not\n",
      "-   Every document must have a single root element\n",
      "    -   I.e., a single element must enclose everything else\n",
      "-   Specific XML dialects may restrict which elements can appear inside\n",
      "    which others\n",
      "    -   XHTML is very liberal\n",
      "    -   MathML (Mathematical Markup Language) is stricter\n",
      "\n",
      "####Text\n",
      "-   Text is normal printable text\n",
      "-   Must use escape sequences to represent `<` and `>`\n",
      "    -   In XML, written `&name;`\n",
      "\n",
      "**Attributes**  \n",
      "\n",
      "-   Elements can be customized by giving them\n",
      "    [attributes]. The attributes provide additional information about the element.  \n",
      "    * They need to be rnclosed in the opening tag. Let's look at HTML example: \n",
      "    * `<h1 align=\"center\">A Centered Heading</h1>`  \n",
      "    * `<p class=\"disclaimer\">This planet provided as-is.</p>`  \n",
      "-   An attribute name may appear at most once in any element  \n",
      "    -   Like keys in a dictionary  \n",
      "    -   So `<p align=\"left\" align=\"right\">...</p>` is illegal\n",
      "-   Values *must* be quoted  \n",
      "    -   Old-style browsers accepted `<p align=center>...<p>`, but modern\n",
      "        parsers will reject it  \n",
      "    -   Must use escape sequences for angle brackets, quotes, etc.\n",
      "        inside values\n",
      "\n",
      "**Attributes Vs. Elements**\n",
      "\n",
      "-   Use attributes when:\n",
      "    -   Each value can occur at most once for any element\n",
      "    -   The order of the values doesn't matter\n",
      "    -   Those values have no internal structure\n",
      "-   In all other cases, use nested elements\n",
      "    -   If you have to parse an attribute's value to figure out what it\n",
      "        means, use an element instead\n",
      "\n",
      "\n",
      "\n",
      "###Element Tree library in Python\n",
      "\n",
      "Python's standard library includes [`Element Tree`](https://docs.python.org/2/library/xml.etree.elementtree.html#)  library (xml.etree.ElementTree typically shortened to ET). `Element Tree` provides easy ways to manipulate XML documents. ET is also a widely used library so learning it will help you in working with the code written by other developers.\n",
      "\n",
      "\n",
      "#####XML Tree Example\n",
      "XML documents have hierarchical structure so  a natural way to represent them is to use a tree structure.\n",
      "\n",
      "\t<root>\n",
      "\t  <first>element</first>\n",
      "\t  <second attr=\"value\">element</second>\n",
      "\t  <third-element/>\n",
      "\t</root>\n",
      "\n",
      "\n",
      "![An XML Tree](dom-tree.png)\n",
      "\n",
      "Figure 21.5: An XML Tree\n",
      "\n",
      "#####Creating a Tree using ElementTree and extracting element object 'root'\n",
      "\n",
      "Example: file \"planets.xml\"\n",
      "\n",
      "\t<?xml version=\"1.0\" encoding=\"utf-8\"?>\n",
      "\t\t<galaxy name=\"Solar System\">\n",
      "\t\t<planet name=\"Mercury\"><period units=\"days\">87.97</period></planet>\n",
      "\t\t<planet name=\"Mars\"><period units=\"days\">56.97</period>\n",
      "\t\t<moon name=\"Phobos\"> </moon>\n",
      "\t\t<moon name=\"Deimos\"> </moon>\n",
      "\t\t</planet>\n",
      "\t\t<planet name=\"Venus\"><period units=\"days\">224.7</period></planet>\n",
      "\t\t<planet name=\"Earth\"><period units=\"days\">365.26</period></planet>\n",
      "\t\t</galaxy>\n"
     ]
    },
    {
     "cell_type": "code",
     "collapsed": false,
     "input": [
      "import xml.etree.ElementTree as etree\n",
      "tree = etree.parse('planets.xml')\n",
      "root = tree.getroot()\n",
      "print root.attrib"
     ],
     "language": "python",
     "metadata": {},
     "outputs": [
      {
       "output_type": "stream",
       "stream": "stdout",
       "text": [
        "{'name': 'Solar System'}\n"
       ]
      }
     ],
     "prompt_number": 31
    },
    {
     "cell_type": "markdown",
     "metadata": {},
     "source": [
      "Listing all root's children"
     ]
    },
    {
     "cell_type": "code",
     "collapsed": false,
     "input": [
      "for child in root:\n",
      "    \tprint \"tag=\",child.tag, \" attrib=\",child.attrib"
     ],
     "language": "python",
     "metadata": {},
     "outputs": [
      {
       "output_type": "stream",
       "stream": "stdout",
       "text": [
        "tag= planet  attrib= {'name': 'Mercury'}\n",
        "tag= planet  attrib= {'name': 'Mars'}\n",
        "tag= planet  attrib= {'name': 'Venus'}\n",
        "tag= planet  attrib= {'name': 'Earth'}\n"
       ]
      }
     ],
     "prompt_number": 32
    },
    {
     "cell_type": "markdown",
     "metadata": {},
     "source": [
      "Elements are stored as a list so we can access the children using list indexes:"
     ]
    },
    {
     "cell_type": "code",
     "collapsed": false,
     "input": [
      "print root[0].tag, root[0].attrib"
     ],
     "language": "python",
     "metadata": {},
     "outputs": [
      {
       "output_type": "stream",
       "stream": "stdout",
       "text": [
        "planet {'name': 'Mercury'}\n"
       ]
      }
     ],
     "prompt_number": 33
    },
    {
     "cell_type": "markdown",
     "metadata": {},
     "source": [
      "In ElementTree the attributes are stored as dictionaries:"
     ]
    },
    {
     "cell_type": "code",
     "collapsed": false,
     "input": [
      "print child.attrib['name']"
     ],
     "language": "python",
     "metadata": {},
     "outputs": [
      {
       "output_type": "stream",
       "stream": "stdout",
       "text": [
        "Earth\n"
       ]
      }
     ],
     "prompt_number": 35
    },
    {
     "cell_type": "markdown",
     "metadata": {},
     "source": [
      "####Finding particular elements:\n",
      "\n",
      "We know now how to get hold of all elements in the XML document by recursively extracting all the children using the `for` loop. But the ET library comes with methods which allow for iterating over the elements immediately below a given element. The `iter` method does exactly that (using \"depth-first iteration (DFS)\"). `iter` method is available for both ElementTree and Element objects.  \n",
      "\n",
      "Using iter for ElementTree:"
     ]
    },
    {
     "cell_type": "code",
     "collapsed": false,
     "input": [
      "for element in tree.iter():\n",
      "    \t\tprint element.tag, element.attrib"
     ],
     "language": "python",
     "metadata": {},
     "outputs": [
      {
       "output_type": "stream",
       "stream": "stdout",
       "text": [
        "galaxy {'name': 'Solar System'}\n",
        "planet {'name': 'Mercury'}\n",
        "period {'units': 'days'}\n",
        "planet {'name': 'Mars'}\n",
        "period {'units': 'days'}\n",
        "moon {'name': 'Phobos'}\n",
        "moon {'name': 'Deimos'}\n",
        "planet {'name': 'Venus'}\n",
        "period {'units': 'days'}\n",
        "planet {'name': 'Earth'}\n",
        "period {'units': 'days'}\n"
       ]
      }
     ],
     "prompt_number": 25
    },
    {
     "cell_type": "markdown",
     "metadata": {},
     "source": [
      "Using iter for Element:"
     ]
    },
    {
     "cell_type": "code",
     "collapsed": false,
     "input": [
      "for element in root[0].iter():\n",
      "    \t\tprint element.tag, element.attrib"
     ],
     "language": "python",
     "metadata": {},
     "outputs": [
      {
       "output_type": "stream",
       "stream": "stdout",
       "text": [
        "planet {'name': 'Mercury'}\n",
        "period {'units': 'days'}\n"
       ]
      }
     ],
     "prompt_number": 41
    },
    {
     "cell_type": "markdown",
     "metadata": {},
     "source": [
      "We can use iter to find particular element:"
     ]
    },
    {
     "cell_type": "code",
     "collapsed": false,
     "input": [
      " for element in root.iter(tag = 'period'):\n",
      "    \tprint element.attrib\n",
      "    \tprint element.text"
     ],
     "language": "python",
     "metadata": {},
     "outputs": [
      {
       "output_type": "stream",
       "stream": "stdout",
       "text": [
        "{'units': 'days'}\n",
        "87.97\n",
        "{'units': 'days'}\n",
        "56.97\n",
        "{'units': 'days'}\n",
        "224.7\n",
        "{'units': 'days'}\n",
        "365.26\n"
       ]
      }
     ],
     "prompt_number": 42
    },
    {
     "cell_type": "code",
     "collapsed": false,
     "input": [
      " for element in root.iter(tag='moon'):\n",
      "    \tprint element.attrib\n",
      "    \tprint element.text"
     ],
     "language": "python",
     "metadata": {},
     "outputs": [
      {
       "output_type": "stream",
       "stream": "stdout",
       "text": [
        "{'name': 'Phobos'}\n",
        " \n",
        "{'name': 'Deimos'}\n",
        " \n"
       ]
      }
     ],
     "prompt_number": 29
    },
    {
     "cell_type": "code",
     "collapsed": false,
     "input": [],
     "language": "python",
     "metadata": {},
     "outputs": []
    }
   ],
   "metadata": {}
  }
 ]
}